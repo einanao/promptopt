{
 "cells": [
  {
   "cell_type": "code",
   "execution_count": null,
   "id": "01de9b51",
   "metadata": {},
   "outputs": [],
   "source": [
    "import json\n",
    "import requests\n",
    "\n",
    "from promptopt import utils"
   ]
  },
  {
   "cell_type": "code",
   "execution_count": null,
   "id": "613434a3",
   "metadata": {},
   "outputs": [],
   "source": [
    "prompts = [\n",
    "  'a quick',\n",
    "  'brown fox',\n",
    "  'jumped over',\n",
    "  'the moon'\n",
    "]"
   ]
  },
  {
   "cell_type": "code",
   "execution_count": null,
   "id": "be51ffed",
   "metadata": {},
   "outputs": [],
   "source": [
    "pref_data = [\n",
    "  (0, 1, 0),\n",
    "  (1, 2, 1),\n",
    "  (1, 3, 1),\n",
    "  (2, 0, 0),\n",
    "  (3, 0, 0)\n",
    "]"
   ]
  },
  {
   "cell_type": "code",
   "execution_count": null,
   "id": "1e07a505",
   "metadata": {},
   "outputs": [],
   "source": [
    "data = {\n",
    "  'prompts': prompts,\n",
    "  'prefs': pref_data\n",
    "}"
   ]
  },
  {
   "cell_type": "code",
   "execution_count": null,
   "id": "a80ccf46",
   "metadata": {},
   "outputs": [],
   "source": [
    "r = requests.post(\n",
    "  'http://localhost:%d/api/optimize' % utils.FLASK_PORT, \n",
    "  data={'data': json.dumps(data)}\n",
    ")"
   ]
  },
  {
   "cell_type": "code",
   "execution_count": null,
   "id": "f0687c10",
   "metadata": {},
   "outputs": [],
   "source": [
    "r.status_code"
   ]
  },
  {
   "cell_type": "code",
   "execution_count": null,
   "id": "57768feb",
   "metadata": {},
   "outputs": [],
   "source": [
    "r.json()"
   ]
  },
  {
   "cell_type": "code",
   "execution_count": null,
   "id": "aa8c654e",
   "metadata": {},
   "outputs": [],
   "source": []
  }
 ],
 "metadata": {
  "kernelspec": {
   "display_name": "Python 3 (ipykernel)",
   "language": "python",
   "name": "python3"
  },
  "language_info": {
   "codemirror_mode": {
    "name": "ipython",
    "version": 3
   },
   "file_extension": ".py",
   "mimetype": "text/x-python",
   "name": "python",
   "nbconvert_exporter": "python",
   "pygments_lexer": "ipython3",
   "version": "3.9.13"
  }
 },
 "nbformat": 4,
 "nbformat_minor": 5
}
