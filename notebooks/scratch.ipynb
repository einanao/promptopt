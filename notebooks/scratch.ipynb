{
 "cells": [
  {
   "cell_type": "code",
   "execution_count": null,
   "id": "d07083a5",
   "metadata": {},
   "outputs": [],
   "source": [
    "%load_ext autoreload\n",
    "%autoreload 2\n",
    "%matplotlib inline"
   ]
  },
  {
   "cell_type": "code",
   "execution_count": null,
   "id": "4781a4be",
   "metadata": {},
   "outputs": [],
   "source": [
    "import numpy as np\n",
    "\n",
    "from promptopt import models\n",
    "from promptopt import datasets\n",
    "from promptopt import rlhf\n",
    "\n",
    "from matplotlib import pyplot as plt\n",
    "import matplotlib as mpl"
   ]
  },
  {
   "cell_type": "code",
   "execution_count": null,
   "id": "1e7d72bd",
   "metadata": {},
   "outputs": [],
   "source": [
    "n_embedding_dims = 2"
   ]
  },
  {
   "cell_type": "code",
   "execution_count": null,
   "id": "1cd7ec7a",
   "metadata": {},
   "outputs": [],
   "source": [
    "net_arch_kwargs = {\n",
    "  'n_layers': 0,\n",
    "  'layer_size': None\n",
    "}\n",
    "pref_model = models.PrefModel(n_embedding_dims, net_arch_kwargs=net_arch_kwargs)"
   ]
  },
  {
   "cell_type": "code",
   "execution_count": null,
   "id": "bab32a46",
   "metadata": {},
   "outputs": [],
   "source": [
    "pref_model_train_config = rlhf.get_default_config()\n",
    "pref_model_train_config.verbose = True"
   ]
  },
  {
   "cell_type": "code",
   "execution_count": null,
   "id": "874b8c37",
   "metadata": {},
   "outputs": [],
   "source": [
    "embedding_dataset = datasets.EmbeddingDataset()"
   ]
  },
  {
   "cell_type": "code",
   "execution_count": null,
   "id": "c386275b",
   "metadata": {},
   "outputs": [],
   "source": [
    "n_embeddings = 100\n",
    "embeddings = np.random.normal(0, 1, (n_embeddings, n_embedding_dims))"
   ]
  },
  {
   "cell_type": "code",
   "execution_count": null,
   "id": "80c47b4d",
   "metadata": {},
   "outputs": [],
   "source": [
    "for i in range(n_embeddings):\n",
    "  embedding_dataset.append(embeddings[i])"
   ]
  },
  {
   "cell_type": "code",
   "execution_count": null,
   "id": "eac04e08",
   "metadata": {},
   "outputs": [],
   "source": [
    "pref_dataset = datasets.PrefDataset(embedding_dataset)"
   ]
  },
  {
   "cell_type": "code",
   "execution_count": null,
   "id": "ae618c5b",
   "metadata": {},
   "outputs": [],
   "source": [
    "R = np.sum(embeddings, axis=1)\n",
    "for i in range(n_embeddings):\n",
    "  for j in range(i+1, n_embeddings):\n",
    "    pref = (R[i] > R[j]).astype(int)\n",
    "    pref_dataset.append(i, j, pref)"
   ]
  },
  {
   "cell_type": "code",
   "execution_count": null,
   "id": "891d6ce1",
   "metadata": {},
   "outputs": [],
   "source": [
    "plt.scatter(embeddings[:, 0], embeddings[:, 1], c=R)\n",
    "plt.show()"
   ]
  },
  {
   "cell_type": "code",
   "execution_count": null,
   "id": "d7eadd6d",
   "metadata": {
    "scrolled": true
   },
   "outputs": [],
   "source": [
    "optimizer = rlhf.RLHF(pref_model, pref_model_train_config, embedding_dataset, pref_dataset)"
   ]
  },
  {
   "cell_type": "code",
   "execution_count": null,
   "id": "f362ef68",
   "metadata": {},
   "outputs": [],
   "source": []
  }
 ],
 "metadata": {
  "kernelspec": {
   "display_name": "Python 3 (ipykernel)",
   "language": "python",
   "name": "python3"
  },
  "language_info": {
   "codemirror_mode": {
    "name": "ipython",
    "version": 3
   },
   "file_extension": ".py",
   "mimetype": "text/x-python",
   "name": "python",
   "nbconvert_exporter": "python",
   "pygments_lexer": "ipython3",
   "version": "3.9.13"
  }
 },
 "nbformat": 4,
 "nbformat_minor": 5
}
