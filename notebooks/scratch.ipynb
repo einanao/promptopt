{
 "cells": [
  {
   "cell_type": "code",
   "execution_count": null,
   "id": "392b31bb",
   "metadata": {},
   "outputs": [],
   "source": [
    "import json\n",
    "import requests\n",
    "\n",
    "from promptopt import utils"
   ]
  },
  {
   "cell_type": "code",
   "execution_count": null,
   "id": "1c55821c",
   "metadata": {},
   "outputs": [],
   "source": [
    "prompts = [\n",
    "  'a quick',\n",
    "  'brown fox',\n",
    "  'jumped over',\n",
    "  'the moon'\n",
    "]"
   ]
  },
  {
   "cell_type": "code",
   "execution_count": null,
   "id": "07c8bbff",
   "metadata": {},
   "outputs": [],
   "source": [
    "pref_data = [\n",
    "  (0, 1, 0),\n",
    "  (1, 2, 1),\n",
    "  (1, 3, 1),\n",
    "  (2, 0, 0),\n",
    "  (3, 0, 0)\n",
    "]"
   ]
  },
  {
   "cell_type": "code",
   "execution_count": null,
   "id": "e1fda7f5",
   "metadata": {},
   "outputs": [],
   "source": [
    "data = {\n",
    "  'prompts': prompts,\n",
    "  'prefs': pref_data\n",
    "}"
   ]
  },
  {
   "cell_type": "code",
   "execution_count": null,
   "id": "2c05edb4",
   "metadata": {},
   "outputs": [],
   "source": [
    "r = requests.post(\n",
    "  'http://localhost:%d/api/opt_from_prefs' % utils.FLASK_PORT, \n",
    "  data={'data': json.dumps(data)}\n",
    ")"
   ]
  },
  {
   "cell_type": "code",
   "execution_count": null,
   "id": "7874c7ec",
   "metadata": {},
   "outputs": [],
   "source": [
    "r.status_code"
   ]
  },
  {
   "cell_type": "code",
   "execution_count": null,
   "id": "c67d7eaa",
   "metadata": {},
   "outputs": [],
   "source": [
    "r.json()"
   ]
  },
  {
   "cell_type": "code",
   "execution_count": 62,
   "id": "3c07cfc2",
   "metadata": {},
   "outputs": [],
   "source": [
    "import os"
   ]
  },
  {
   "cell_type": "code",
   "execution_count": 71,
   "id": "d22d11ff",
   "metadata": {},
   "outputs": [],
   "source": [
    "with open(os.path.join(os.path.expanduser('~'), 'Downloads', 'generrated.html'), 'r') as f:\n",
    "  raw = f.read()"
   ]
  },
  {
   "cell_type": "code",
   "execution_count": 79,
   "id": "b0b36405",
   "metadata": {},
   "outputs": [],
   "source": [
    "prompts = []\n",
    "img_urls = []\n",
    "for b in raw.split('<img')[1:]:\n",
    "  if b.startswith(' alt='):\n",
    "    prompt = b.split('alt=\"')[1].split('\"')[0]\n",
    "    img_url = b.split('src=\"')[1].split('\"')[0]\n",
    "    if img_url.startswith('/generated_images'):\n",
    "      img_url = 'https://generrated.com/' + img_url\n",
    "      prompts.append(prompt)\n",
    "      img_urls.append(img_url)"
   ]
  },
  {
   "cell_type": "code",
   "execution_count": 82,
   "id": "524f2539",
   "metadata": {},
   "outputs": [
    {
     "data": {
      "text/plain": [
       "1875"
      ]
     },
     "execution_count": 82,
     "metadata": {},
     "output_type": "execute_result"
    }
   ],
   "source": [
    "len(prompts)"
   ]
  },
  {
   "cell_type": "code",
   "execution_count": 81,
   "id": "0b438068",
   "metadata": {},
   "outputs": [],
   "source": [
    "with open(os.path.join(utils.DATA_DIR, 'generrated.json'), 'w') as f:\n",
    "  data = {'prompts': prompts, 'img_urls': img_urls}\n",
    "  json.dump(data, f)"
   ]
  },
  {
   "cell_type": "code",
   "execution_count": null,
   "id": "45f08062",
   "metadata": {},
   "outputs": [],
   "source": []
  }
 ],
 "metadata": {
  "kernelspec": {
   "display_name": "Python 3 (ipykernel)",
   "language": "python",
   "name": "python3"
  },
  "language_info": {
   "codemirror_mode": {
    "name": "ipython",
    "version": 3
   },
   "file_extension": ".py",
   "mimetype": "text/x-python",
   "name": "python",
   "nbconvert_exporter": "python",
   "pygments_lexer": "ipython3",
   "version": "3.9.13"
  }
 },
 "nbformat": 4,
 "nbformat_minor": 5
}
