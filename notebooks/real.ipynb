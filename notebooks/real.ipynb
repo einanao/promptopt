{
 "cells": [
  {
   "cell_type": "code",
   "execution_count": null,
   "id": "d07083a5",
   "metadata": {},
   "outputs": [],
   "source": [
    "%load_ext autoreload\n",
    "%autoreload 2\n",
    "%matplotlib inline"
   ]
  },
  {
   "cell_type": "code",
   "execution_count": null,
   "id": "4781a4be",
   "metadata": {},
   "outputs": [],
   "source": [
    "import numpy as np\n",
    "import torch\n",
    "\n",
    "from promptopt import models\n",
    "from promptopt import datasets\n",
    "from promptopt import rlhf\n",
    "from promptopt import embed\n",
    "from promptopt import interrogator\n",
    "\n",
    "from matplotlib import pyplot as plt\n",
    "import matplotlib as mpl"
   ]
  },
  {
   "cell_type": "code",
   "execution_count": null,
   "id": "e7af0b12",
   "metadata": {},
   "outputs": [],
   "source": [
    "embedding_model = embed.CLIP()"
   ]
  },
  {
   "cell_type": "code",
   "execution_count": null,
   "id": "1cd7ec7a",
   "metadata": {},
   "outputs": [],
   "source": [
    "net_arch_kwargs = {\n",
    "  'n_layers': 2,\n",
    "  'layer_size': 256\n",
    "}\n",
    "pref_model = models.PrefModel(embedding_model.n_embedding_dims, net_arch_kwargs=net_arch_kwargs)"
   ]
  },
  {
   "cell_type": "code",
   "execution_count": null,
   "id": "bab32a46",
   "metadata": {},
   "outputs": [],
   "source": [
    "pref_model_train_config = rlhf.get_default_config()\n",
    "pref_model_train_config.verbose = True"
   ]
  },
  {
   "cell_type": "code",
   "execution_count": null,
   "id": "96aad191",
   "metadata": {},
   "outputs": [],
   "source": [
    "prompts = [\n",
    "  'a quick',\n",
    "  'brown fox',\n",
    "  'jumped over',\n",
    "  'the moon'\n",
    "]"
   ]
  },
  {
   "cell_type": "code",
   "execution_count": null,
   "id": "62a64253",
   "metadata": {},
   "outputs": [],
   "source": [
    "pref_data = [\n",
    "  (0, 1, 0),\n",
    "  (1, 2, 1),\n",
    "  (1, 3, 1),\n",
    "  (2, 0, 0),\n",
    "  (3, 0, 0)\n",
    "]"
   ]
  },
  {
   "cell_type": "code",
   "execution_count": null,
   "id": "c386275b",
   "metadata": {},
   "outputs": [],
   "source": [
    "embeddings = embedding_model.embed_strings(prompts)"
   ]
  },
  {
   "cell_type": "code",
   "execution_count": null,
   "id": "80c47b4d",
   "metadata": {},
   "outputs": [],
   "source": [
    "embedding_dataset = datasets.EmbeddingDataset(embeddings=list(embeddings))"
   ]
  },
  {
   "cell_type": "code",
   "execution_count": null,
   "id": "eac04e08",
   "metadata": {},
   "outputs": [],
   "source": [
    "pref_dataset = datasets.PrefDataset(embedding_dataset, pref_data=pref_data)"
   ]
  },
  {
   "cell_type": "code",
   "execution_count": null,
   "id": "d7eadd6d",
   "metadata": {
    "scrolled": true
   },
   "outputs": [],
   "source": [
    "optimizer = rlhf.RLHF(pref_model, pref_model_train_config, embedding_dataset, pref_dataset)"
   ]
  },
  {
   "cell_type": "code",
   "execution_count": null,
   "id": "5320a8d8",
   "metadata": {},
   "outputs": [],
   "source": [
    "candidate_prompts = [\n",
    "  'quick fox',\n",
    "  'jumping moon'\n",
    "]\n",
    "candidate_prompts += prompts"
   ]
  },
  {
   "cell_type": "code",
   "execution_count": null,
   "id": "ac28fdf9",
   "metadata": {},
   "outputs": [],
   "source": [
    "candidate_embeddings = embedding_model.embed_strings(prompts)"
   ]
  },
  {
   "cell_type": "code",
   "execution_count": null,
   "id": "f0873244",
   "metadata": {},
   "outputs": [],
   "source": [
    "candidate_scores = np.array(pref_model.score(candidate_embeddings))"
   ]
  },
  {
   "cell_type": "code",
   "execution_count": null,
   "id": "ed724899",
   "metadata": {},
   "outputs": [],
   "source": [
    "scored_candidates = list(zip(candidate_prompts, candidate_scores))"
   ]
  },
  {
   "cell_type": "code",
   "execution_count": null,
   "id": "b0dfc640",
   "metadata": {},
   "outputs": [],
   "source": [
    "sorted_candidates = sorted(scored_candidates, key=lambda x: x[1], reverse=True)\n",
    "sorted_candidates"
   ]
  },
  {
   "cell_type": "code",
   "execution_count": null,
   "id": "6622034d",
   "metadata": {},
   "outputs": [],
   "source": [
    "score_func = lambda x: torch.tensor(np.array(pref_model.score(x)))\n",
    "gator = interrogator.Gator(embedding_model=embedding_model, score_func=score_func)"
   ]
  },
  {
   "cell_type": "code",
   "execution_count": null,
   "id": "16dac2e9",
   "metadata": {},
   "outputs": [],
   "source": [
    "init_prompt, _ = scored_candidates[0]\n",
    "init_prompt"
   ]
  },
  {
   "cell_type": "code",
   "execution_count": null,
   "id": "dbfe9f38",
   "metadata": {},
   "outputs": [],
   "source": [
    "best_prompt = gator.search(init_prompt)\n",
    "best_prompt"
   ]
  },
  {
   "cell_type": "code",
   "execution_count": null,
   "id": "262ee8c3",
   "metadata": {},
   "outputs": [],
   "source": [
    "best_prompt_embedding = embedding_model.embed_string(best_prompt)"
   ]
  },
  {
   "cell_type": "code",
   "execution_count": null,
   "id": "2ac94531",
   "metadata": {},
   "outputs": [],
   "source": [
    "optimizer.predict_prefs(best_prompt_embedding)"
   ]
  },
  {
   "cell_type": "code",
   "execution_count": null,
   "id": "259f7610",
   "metadata": {},
   "outputs": [],
   "source": []
  }
 ],
 "metadata": {
  "kernelspec": {
   "display_name": "Python 3 (ipykernel)",
   "language": "python",
   "name": "python3"
  },
  "language_info": {
   "codemirror_mode": {
    "name": "ipython",
    "version": 3
   },
   "file_extension": ".py",
   "mimetype": "text/x-python",
   "name": "python",
   "nbconvert_exporter": "python",
   "pygments_lexer": "ipython3",
   "version": "3.9.13"
  }
 },
 "nbformat": 4,
 "nbformat_minor": 5
}
