{
 "cells": [
  {
   "cell_type": "code",
   "execution_count": null,
   "id": "d07083a5",
   "metadata": {},
   "outputs": [],
   "source": [
    "%load_ext autoreload\n",
    "%autoreload 2\n",
    "%matplotlib inline"
   ]
  },
  {
   "cell_type": "code",
   "execution_count": null,
   "id": "4781a4be",
   "metadata": {},
   "outputs": [],
   "source": [
    "import numpy as np\n",
    "\n",
    "from promptopt import models\n",
    "from promptopt import datasets\n",
    "from promptopt import rlhf\n",
    "from promptopt import embed\n",
    "\n",
    "from matplotlib import pyplot as plt\n",
    "import matplotlib as mpl"
   ]
  },
  {
   "cell_type": "code",
   "execution_count": null,
   "id": "cbc331e6",
   "metadata": {},
   "outputs": [],
   "source": [
    "embedding_model = embed.CLIP()"
   ]
  },
  {
   "cell_type": "code",
   "execution_count": null,
   "id": "1cd7ec7a",
   "metadata": {},
   "outputs": [],
   "source": [
    "net_arch_kwargs = {\n",
    "  'n_layers': 2,\n",
    "  'layer_size': 256\n",
    "}\n",
    "pref_model = models.PrefModel(embedding_model.n_embedding_dims, net_arch_kwargs=net_arch_kwargs)"
   ]
  },
  {
   "cell_type": "code",
   "execution_count": null,
   "id": "bab32a46",
   "metadata": {},
   "outputs": [],
   "source": [
    "pref_model_train_config = rlhf.get_default_config()\n",
    "pref_model_train_config.verbose = True"
   ]
  },
  {
   "cell_type": "code",
   "execution_count": null,
   "id": "1c8ebd25",
   "metadata": {},
   "outputs": [],
   "source": [
    "prompts = [\n",
    "  'a quick',\n",
    "  'brown fox',\n",
    "  'jumped over',\n",
    "  'the moon'\n",
    "]"
   ]
  },
  {
   "cell_type": "code",
   "execution_count": null,
   "id": "511dfe81",
   "metadata": {},
   "outputs": [],
   "source": [
    "pref_data = [\n",
    "  (0, 1, 0),\n",
    "  (1, 2, 1),\n",
    "  (1, 3, 1),\n",
    "  (2, 0, 0),\n",
    "  (3, 0, 0)\n",
    "]"
   ]
  },
  {
   "cell_type": "code",
   "execution_count": null,
   "id": "c386275b",
   "metadata": {},
   "outputs": [],
   "source": [
    "embeddings = embedding_model.embed_strings(prompts)"
   ]
  },
  {
   "cell_type": "code",
   "execution_count": null,
   "id": "80c47b4d",
   "metadata": {},
   "outputs": [],
   "source": [
    "embedding_dataset = datasets.EmbeddingDataset(embeddings=list(embeddings))"
   ]
  },
  {
   "cell_type": "code",
   "execution_count": null,
   "id": "eac04e08",
   "metadata": {},
   "outputs": [],
   "source": [
    "pref_dataset = datasets.PrefDataset(embedding_dataset, pref_data=pref_data, train_frac=0.5)"
   ]
  },
  {
   "cell_type": "code",
   "execution_count": null,
   "id": "d7eadd6d",
   "metadata": {
    "scrolled": true
   },
   "outputs": [],
   "source": [
    "optimizer = rlhf.RLHF(pref_model, pref_model_train_config, embedding_dataset, pref_dataset)"
   ]
  },
  {
   "cell_type": "code",
   "execution_count": null,
   "id": "576384d8",
   "metadata": {},
   "outputs": [],
   "source": [
    "candidate_prompts = [\n",
    "  'quick fox',\n",
    "  'jumping moon'\n",
    "]"
   ]
  },
  {
   "cell_type": "code",
   "execution_count": null,
   "id": "ac28fdf9",
   "metadata": {},
   "outputs": [],
   "source": [
    "candidate_embeddings = embedding_model.embed_strings(prompts)"
   ]
  },
  {
   "cell_type": "code",
   "execution_count": null,
   "id": "d72ca7f9",
   "metadata": {},
   "outputs": [],
   "source": [
    "candidate_scores = np.array(pref_model.score(candidate_embeddings))"
   ]
  },
  {
   "cell_type": "code",
   "execution_count": null,
   "id": "e6503c36",
   "metadata": {},
   "outputs": [],
   "source": [
    "sorted(list(zip(candidate_prompts, candidate_scores)), key=lambda x: x[1], reverse=True)"
   ]
  },
  {
   "cell_type": "code",
   "execution_count": null,
   "id": "259f7610",
   "metadata": {},
   "outputs": [],
   "source": []
  }
 ],
 "metadata": {
  "kernelspec": {
   "display_name": "Python 3 (ipykernel)",
   "language": "python",
   "name": "python3"
  },
  "language_info": {
   "codemirror_mode": {
    "name": "ipython",
    "version": 3
   },
   "file_extension": ".py",
   "mimetype": "text/x-python",
   "name": "python",
   "nbconvert_exporter": "python",
   "pygments_lexer": "ipython3",
   "version": "3.9.13"
  }
 },
 "nbformat": 4,
 "nbformat_minor": 5
}
